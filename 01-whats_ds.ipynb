{
 "cells": [
  {
   "cell_type": "markdown",
   "id": "f204e94b-fa97-4242-87b2-b55a2c5b6ed3",
   "metadata": {
    "tags": []
   },
   "source": [
    "# What is Data Science?"
   ]
  },
  {
   "cell_type": "markdown",
   "id": "e974e928-b7f2-475f-b3d3-753309de2077",
   "metadata": {},
   "source": [
    "## Class Profile"
   ]
  },
  {
   "cell_type": "markdown",
   "id": "b9a625d7-aa98-456b-9a14-81a2b9da0dbd",
   "metadata": {},
   "source": [
    "Before we start, let's take a quick look into the profile of the students in our class!"
   ]
  },
  {
   "cell_type": "markdown",
   "id": "e557bd9c-8ad3-4d1a-ba2d-f475a47573e1",
   "metadata": {},
   "source": [
    "First we need some modules.  **Don't worry about the code for now!**"
   ]
  },
  {
   "cell_type": "code",
   "execution_count": null,
   "id": "b577149d-8572-475e-909a-2ce1d8d073b5",
   "metadata": {
    "tags": []
   },
   "outputs": [],
   "source": [
    "# load libraries\n",
    "import pandas as pd\n",
    "import numpy as np\n",
    "import matplotlib.pyplot as plt"
   ]
  },
  {
   "cell_type": "code",
   "execution_count": null,
   "id": "8ea00b06-a45a-4927-9253-8f59d9e2d785",
   "metadata": {
    "tags": []
   },
   "outputs": [],
   "source": [
    "# needs module ipympl\n",
    "# %matplotlib widget\n",
    "\n",
    "# without the line below, widget cuts off legends...\n",
    "plt.rcParams[\"figure.constrained_layout.use\"] = True\n",
    "\n",
    "%matplotlib inline\n",
    "plt.rcParams['figure.figsize'] = (10, 8)\n",
    "\n",
    "# style\n",
    "# plt.style.use('fivethirtyeight')\n",
    "plt.style.use(\"ggplot\")"
   ]
  },
  {
   "cell_type": "markdown",
   "id": "cf0f1763-1114-44b7-ad34-298b0d5e82a2",
   "metadata": {},
   "source": [
    "Let's load the data and check the first 10 lines."
   ]
  },
  {
   "cell_type": "code",
   "execution_count": null,
   "id": "92b27180-ff79-43de-bcf2-cf05cca70c84",
   "metadata": {
    "tags": []
   },
   "outputs": [],
   "source": [
    "class_data = pd.read_csv(\"anonymous_class_data.csv\")\n",
    "class_data.head(10)"
   ]
  },
  {
   "cell_type": "markdown",
   "id": "bd3f5664-b4b0-4f5c-a192-0bbfce7ff099",
   "metadata": {},
   "source": [
    "Let's see how many students we have from each major:"
   ]
  },
  {
   "cell_type": "code",
   "execution_count": null,
   "id": "3f5e869a-3001-41d2-9a88-1c74d81250ed",
   "metadata": {
    "tags": []
   },
   "outputs": [],
   "source": [
    "majors_data = class_data[\"Major\"].value_counts()\n",
    "majors_data.to_frame()"
   ]
  },
  {
   "cell_type": "markdown",
   "id": "471e188f-8516-4f1c-83a0-1ec3e39cf3db",
   "metadata": {},
   "source": [
    "It would be nicer to visualize it with a (bar or pie) graph!"
   ]
  },
  {
   "cell_type": "code",
   "execution_count": null,
   "id": "87c550cc-4d79-4c62-b73f-a4453b07bc0d",
   "metadata": {
    "tags": []
   },
   "outputs": [],
   "source": [
    "# bar plot\n",
    "majors_data.plot(kind=\"barh\")\n",
    "\n",
    "plt.title(\"Majors in Data 201\")\n",
    "plt.xlabel(\"Count\")\n",
    "\n",
    "# pie chart\n",
    "# majors_data.plot(kind=\"pie\", autopct='%1.2f%%')\n",
    "\n",
    "plt.show()"
   ]
  },
  {
   "cell_type": "markdown",
   "id": "46359730-8e9e-4834-9f22-27311d3a8727",
   "metadata": {},
   "source": [
    "Now, let's see the class (Freshman, Sophomore, ...) of our students."
   ]
  },
  {
   "cell_type": "code",
   "execution_count": null,
   "id": "1affca5c-6cd9-4e47-872b-c60eb68192c4",
   "metadata": {
    "tags": []
   },
   "outputs": [],
   "source": [
    "classes = [\"Freshman\", \"Sophomore\", \"Junior\", \"Senior\"]\n",
    "year_data = class_data[\"Class\"].value_counts().reindex(classes)\n",
    "year_data.to_frame()"
   ]
  },
  {
   "cell_type": "code",
   "execution_count": null,
   "id": "aecda1d5-e9c7-4426-9ef8-176134503604",
   "metadata": {
    "tags": []
   },
   "outputs": [],
   "source": [
    "# bar plot\n",
    "year_data.plot(kind=\"barh\", rot=40)\n",
    "\n",
    "plt.title(\"Classes in Data 201\")\n",
    "plt.ylabel(\"Count\")\n",
    "\n",
    "# pie chart\n",
    "# year_data.plot(kind=\"pie\", autopct=\"%1.2f%%\")\n",
    "\n",
    "plt.show()"
   ]
  },
  {
   "cell_type": "markdown",
   "id": "659eec27-8a51-4e6e-983f-629f5ba15e28",
   "metadata": {},
   "source": [
    "Let's see how the **top enrollment majors** are divided into classes.\n",
    "\n",
    "**Note:** This class is too small to pick top majors, so here we will look at *all* majors."
   ]
  },
  {
   "cell_type": "code",
   "execution_count": null,
   "id": "f26e3f17-ec36-42e7-bc19-009576601c80",
   "metadata": {
    "tags": []
   },
   "outputs": [],
   "source": [
    "# minimun number of students in major\n",
    "threshold = 1\n",
    "\n",
    "# we have no Freshmen!\n",
    "classes = [\"Sophomore\", \"Junior\", \"Senior\"]\n",
    "\n",
    "majors = majors_data.loc[majors_data >= threshold].index.to_numpy()\n",
    "\n",
    "year_major_data = class_data.pivot_table(index=\"Major\", columns=\"Class\", aggfunc=len).fillna(0).loc[majors, :][classes]\n",
    "year_major_data"
   ]
  },
  {
   "cell_type": "markdown",
   "id": "79b4352e-eef0-4b36-bab8-b03cbc849cef",
   "metadata": {},
   "source": [
    "Now, let's graph it:"
   ]
  },
  {
   "cell_type": "code",
   "execution_count": null,
   "id": "4e279a86-470e-4eb9-921c-b82008c570de",
   "metadata": {
    "tags": []
   },
   "outputs": [],
   "source": [
    "year_major_data.plot(kind=\"barh\")\n",
    "\n",
    "plt.title(\"Class Breakdown\")\n",
    "plt.ylabel(\"Count\")\n",
    "\n",
    "plt.show()"
   ]
  },
  {
   "cell_type": "markdown",
   "id": "50f55b15-84e8-4820-8868-f9bc17a0261a",
   "metadata": {},
   "source": [
    "We can also flip it around:"
   ]
  },
  {
   "cell_type": "code",
   "execution_count": null,
   "id": "730e63ef-30f9-48c1-ae5a-e9f7f556e104",
   "metadata": {
    "tags": []
   },
   "outputs": [],
   "source": [
    "year_major_data.T.plot(kind=\"barh\")\n",
    "\n",
    "plt.title(\"Class Breakdown\")\n",
    "plt.ylabel(\"Count\")\n",
    "\n",
    "plt.show()"
   ]
  },
  {
   "cell_type": "markdown",
   "id": "c53eb629-d223-4696-a887-49dd3736a80e",
   "metadata": {},
   "source": [
    "## Introduction"
   ]
  },
  {
   "cell_type": "markdown",
   "id": "2293ada9-8af1-493d-90e5-7eee3ea4c7c4",
   "metadata": {},
   "source": [
    "Data Science is about drawing conclusions for large amount of data, through:\n",
    "- **Exploration:** identifying patterns.  *Tools:* visualizations and descriptive statistics.\n",
    "- **Prediction:** make informed guesses.  *Tools:* machine learning and optimization.\n",
    "- **Inference:** quantifying our degree of certainty.  *Tools:* statistical tests and models."
   ]
  },
  {
   "cell_type": "markdown",
   "id": "8e2ea37d-f40b-4912-aa6f-a3b01cb8285b",
   "metadata": {},
   "source": [
    "Data Science is more than that: \n",
    "\n",
    "> Data scientists learn to ask appropriate questions about their data and correctly interpret the answers provided by our inferential and computational tools."
   ]
  },
  {
   "cell_type": "markdown",
   "id": "462dbae9-b45c-4381-bef6-513090f962fe",
   "metadata": {},
   "source": [
    "We must also learn how to apply these ideas in the real world!"
   ]
  },
  {
   "cell_type": "markdown",
   "id": "1c8b2d3e-6f4f-4f27-9d15-d3dd5a1c988c",
   "metadata": {},
   "source": [
    "## Why Data Science?"
   ]
  },
  {
   "cell_type": "markdown",
   "id": "128cfbbd-b1ae-4f87-935f-47e0a9e549a6",
   "metadata": {},
   "source": [
    "Basically, for making better decisions:\n",
    "- Humans have biases.\n",
    "- Data validates predictions.\n",
    "- Methods can be tested and improved.\n",
    "- Based on data/facts.\n",
    "- Data can be too large or complex for human parsing."
   ]
  },
  {
   "cell_type": "markdown",
   "id": "7cebdf0c-d642-491f-85d9-ad7cb49147db",
   "metadata": {},
   "source": [
    "## Example: Plotting the Classics"
   ]
  },
  {
   "cell_type": "markdown",
   "id": "5ef12d0f-cfe5-4a3e-ad70-a3815f7171b2",
   "metadata": {},
   "source": [
    "We explore statistics from:\n",
    "1) [*The Adventures of Huckleberry Finn*](https://www.inferentialthinking.com/data/huck_finn.txt) by Mark Twain; and\n",
    "2) [*Little Women*](https://www.inferentialthinking.com/data/little_women.txt) by Louisa May Alcott. "
   ]
  },
  {
   "cell_type": "markdown",
   "id": "5f4679ad-a979-460a-8a4e-93e87a1b2b25",
   "metadata": {},
   "source": [
    "***Don't worry about the code (yet)!***  The goal here is to simply see the tool in action.  We will learn the code later."
   ]
  },
  {
   "cell_type": "markdown",
   "id": "3ce51027-a143-4830-9268-da33351ed53f",
   "metadata": {},
   "source": [
    "First, we need to load some Python tools:"
   ]
  },
  {
   "cell_type": "code",
   "execution_count": null,
   "id": "18835aa8-1303-46d2-ba67-9152ff77db1b",
   "metadata": {
    "tags": []
   },
   "outputs": [],
   "source": [
    "# for reading the books sites\n",
    "from urllib.request import urlopen\n",
    "import re"
   ]
  },
  {
   "cell_type": "code",
   "execution_count": null,
   "id": "4b3d280d-d06a-4c80-acc7-f9e28be784e1",
   "metadata": {
    "tags": []
   },
   "outputs": [],
   "source": [
    "# Read two books, fast!\n",
    "huck_finn_url = 'https://www.inferentialthinking.com/data/huck_finn.txt'\n",
    "huck_finn_text = urlopen(huck_finn_url).read().decode()"
   ]
  },
  {
   "cell_type": "code",
   "execution_count": null,
   "id": "280a9a51-2735-46a9-9d3a-e29d6deed13d",
   "metadata": {
    "tags": []
   },
   "outputs": [],
   "source": [
    "# print(huck_finn_text)"
   ]
  },
  {
   "cell_type": "markdown",
   "id": "21da6d9d-6df3-4b09-ae25-f686ca126060",
   "metadata": {},
   "source": [
    "To better parse it, let's remove multiple instances of spaces (including new lines and tabs) by a single space:"
   ]
  },
  {
   "cell_type": "code",
   "execution_count": null,
   "id": "c0703a2c-8977-4a08-a5fe-ccb0962a31cf",
   "metadata": {
    "tags": []
   },
   "outputs": [],
   "source": [
    "huck_finn_text = re.sub('\\\\s+', ' ', huck_finn_text)"
   ]
  },
  {
   "cell_type": "code",
   "execution_count": null,
   "id": "0c01258c-9552-4b65-9f16-8365f8776d4f",
   "metadata": {
    "tags": []
   },
   "outputs": [],
   "source": [
    "# print(huck_finn_text)"
   ]
  },
  {
   "cell_type": "markdown",
   "id": "d8aa19fb-38ff-4650-b8f9-d75a0d5945ee",
   "metadata": {},
   "source": [
    "Let's make a function to automate the reading of a URL:"
   ]
  },
  {
   "cell_type": "code",
   "execution_count": null,
   "id": "3b32278e-0433-4df0-b1d1-cba3efd09c43",
   "metadata": {
    "tags": []
   },
   "outputs": [],
   "source": [
    "def read_url(url):\n",
    "    \"\"\"\n",
    "    Reads the content of a URL, decoded, and replace multiple spaces (inclding new lines\n",
    "    and tabs) by a single space.\n",
    "    \"\"\"\n",
    "    return re.sub(\"\\\\s+\", \" \", urlopen(url).read().decode())"
   ]
  },
  {
   "cell_type": "markdown",
   "id": "7124f509-5f05-4c21-af05-6b790c1e6672",
   "metadata": {
    "tags": []
   },
   "source": [
    "Now, the second book:"
   ]
  },
  {
   "cell_type": "code",
   "execution_count": null,
   "id": "11c31685-3f87-4017-8c3b-a687583168f6",
   "metadata": {
    "tags": []
   },
   "outputs": [],
   "source": [
    "little_women_url = 'https://www.inferentialthinking.com/data/little_women.txt'\n",
    "little_women_text = read_url(little_women_url)"
   ]
  },
  {
   "cell_type": "code",
   "execution_count": null,
   "id": "257c77bb-3b0c-4f28-9664-1753a7d3c7c4",
   "metadata": {
    "tags": []
   },
   "outputs": [],
   "source": [
    "# print(little_women_text)"
   ]
  },
  {
   "cell_type": "markdown",
   "id": "dbc0e669-35d3-40ad-aa3b-09eeff8e1efb",
   "metadata": {},
   "source": [
    "We now want to read divide the book in chapters.  In both instances, each chapter starts with `CHAPTER`.  We need some trial and error (or some investigating and counting in the original files.)"
   ]
  },
  {
   "cell_type": "code",
   "execution_count": null,
   "id": "01823e8a-b3b9-4cd3-9b8b-50ce63b7fc2e",
   "metadata": {
    "tags": []
   },
   "outputs": [],
   "source": [
    "huck_finn_chapters = huck_finn_text.split(\"CHAPTER \")[44:]\n",
    "little_women_chapters = little_women_text.split(\"CHAPTER \")[1:]"
   ]
  },
  {
   "cell_type": "markdown",
   "id": "180daa02-b4ff-43b5-bb26-f634d4dc77f3",
   "metadata": {},
   "source": [
    "### Characters In The Adventures of Huckleberry Finn"
   ]
  },
  {
   "cell_type": "markdown",
   "id": "dac6fd95-2f3f-4c68-9b27-b835ef55c9fc",
   "metadata": {},
   "source": [
    "*The Adventures of Huckleberry Finn* describes a journey that Huck and Jim take along the Mississippi River. Tom Sawyer joins them towards the end."
   ]
  },
  {
   "cell_type": "markdown",
   "id": "b58979c2-6a37-449a-9f75-f369c2f8b17c",
   "metadata": {},
   "source": [
    "Lets create a *data frame* with the number of occurrences, indexed by the chapters:"
   ]
  },
  {
   "cell_type": "code",
   "execution_count": null,
   "id": "bf8d4eec-dfd2-4de5-a232-8ca66ac19b25",
   "metadata": {
    "tags": []
   },
   "outputs": [],
   "source": [
    "data_dict = {\n",
    "    \"Jim\": np.char.count(huck_finn_chapters, \"Jim\"),\n",
    "    \"Tom\": np.char.count(huck_finn_chapters, \"Tom\"),\n",
    "    \"Huck\": np.char.count(huck_finn_chapters, \"Huck\"),\n",
    "}\n",
    "\n",
    "chapters = np.arange(1, len(huck_finn_chapters) + 1)\n",
    "\n",
    "# use chapter number as index\n",
    "counts = pd.DataFrame(data=data_dict, index=chapters)"
   ]
  },
  {
   "cell_type": "markdown",
   "id": "bcf63516-77d3-4709-82e6-f2446722324b",
   "metadata": {},
   "source": [
    "Let's now see the number of occurrences of each character by chapter:"
   ]
  },
  {
   "cell_type": "code",
   "execution_count": null,
   "id": "141b3349-fff4-45bd-9121-bd00a54aad3e",
   "metadata": {
    "tags": []
   },
   "outputs": [],
   "source": [
    "counts"
   ]
  },
  {
   "cell_type": "markdown",
   "id": "fac77ed6-6f60-47e9-9867-b01a53d93228",
   "metadata": {},
   "source": [
    "It might be better to *visualize* it!"
   ]
  },
  {
   "cell_type": "code",
   "execution_count": null,
   "id": "63a767ee-5806-4872-9023-cb214a3d2def",
   "metadata": {
    "tags": []
   },
   "outputs": [],
   "source": [
    "counts.plot(kind=\"bar\", y=[\"Jim\", \"Tom\", \"Huck\"])\n",
    "plt.title(\"Occurrence of Name per Chapter\")\n",
    "plt.xlabel(\"Chapter\")\n",
    "plt.ylabel(\"Number of Occurrences\")\n",
    "plt.show()"
   ]
  },
  {
   "cell_type": "markdown",
   "id": "b7672db8-9f3e-43f6-a8f8-93a8d3c6ffc6",
   "metadata": {},
   "source": [
    "This graph is a bit hard to visualize...  How about a *cumulative* count?"
   ]
  },
  {
   "cell_type": "code",
   "execution_count": null,
   "id": "2d0cb247-f84f-470b-8d24-a5e11beff27c",
   "metadata": {
    "tags": []
   },
   "outputs": [],
   "source": [
    "cum_counts = counts.cumsum()\n",
    "cum_counts.plot()\n",
    "plt.title(\"Cumulative Occurrence of Name\")\n",
    "plt.xlabel(\"Chapter\")\n",
    "plt.ylabel(\"Cumulative Number of Occurrences\")\n",
    "plt.show()"
   ]
  },
  {
   "cell_type": "markdown",
   "id": "c80eac2e-5df1-42dc-b245-f0978fbb1f2d",
   "metadata": {},
   "source": [
    "You can see:\n",
    "- Jim is a central character by the large number of times his name appears. \n",
    "- Tom is hardly mentioned until he arrives and joins Huck and Jim, after Chapter 30. \n",
    "- Huck's name hardly appears at all, since he is the narrator."
   ]
  },
  {
   "cell_type": "markdown",
   "id": "c1b6c265-2e50-4e92-8862-088ae0319abe",
   "metadata": {},
   "source": [
    "### Characters of Little Women"
   ]
  },
  {
   "cell_type": "markdown",
   "id": "646c09bb-57c7-42eb-8cd2-4bd763a93414",
   "metadata": {},
   "source": [
    "*Little Women* is a story of four sisters growing up together during the civil war."
   ]
  },
  {
   "cell_type": "code",
   "execution_count": null,
   "id": "9bde0bde-39ef-49ec-8e82-0aae70450a64",
   "metadata": {
    "tags": []
   },
   "outputs": [],
   "source": [
    "characters = [\"Amy\", \"Beth\", \"Jo\", \"Meg\", \"Laurie\"]\n",
    "data_dict = {char: np.char.count(little_women_chapters, char) for char in characters}\n",
    "\n",
    "chapters = np.arange(1, len(little_women_chapters) + 1)\n",
    "\n",
    "# use chapter number as index\n",
    "counts = pd.DataFrame(data=data_dict, index=chapters)"
   ]
  },
  {
   "cell_type": "markdown",
   "id": "8b3d55f3-15aa-4058-b871-3be493e8b44b",
   "metadata": {},
   "source": [
    "Again, let's see the counts:"
   ]
  },
  {
   "cell_type": "code",
   "execution_count": null,
   "id": "3c64bb0a-aea6-443c-9f43-bdf3d5cfaec6",
   "metadata": {
    "tags": []
   },
   "outputs": [],
   "source": [
    "counts"
   ]
  },
  {
   "cell_type": "markdown",
   "id": "d5bbf292-0b55-4d5b-a4f2-6baa68fc0d82",
   "metadata": {},
   "source": [
    "Let's plot it:"
   ]
  },
  {
   "cell_type": "code",
   "execution_count": null,
   "id": "31e77319-ec7e-46dc-b8e0-4b93106bf2c3",
   "metadata": {
    "tags": []
   },
   "outputs": [],
   "source": [
    "counts.plot(kind=\"bar\", y=characters)\n",
    "plt.title(\"Occurrence of Name per Chapter\")\n",
    "plt.xlabel(\"Chapter\")\n",
    "plt.ylabel(\"Number of Occurrences\")\n",
    "plt.show()"
   ]
  },
  {
   "cell_type": "markdown",
   "id": "74912511-bf61-4ce2-b11b-91c07ae9237d",
   "metadata": {},
   "source": [
    "And the cumulative plot:"
   ]
  },
  {
   "cell_type": "code",
   "execution_count": null,
   "id": "f24a803a-25e2-49ed-a51e-b0c4c681cf4e",
   "metadata": {
    "tags": []
   },
   "outputs": [],
   "source": [
    "cum_counts = counts.cumsum()\n",
    "cum_counts.plot()\n",
    "plt.title(\"Cumulative Occurrence of Name\")\n",
    "plt.xlabel(\"Chapter\")\n",
    "plt.ylabel(\"Cumulative Number of Occurrences\")\n",
    "plt.show()"
   ]
  },
  {
   "cell_type": "markdown",
   "id": "3830ea49-a4b6-42f2-955b-8081b7c0b537",
   "metadata": {},
   "source": [
    "Jo appears the most, as she is the protagonist.  At Chapter 27, she moves to New York alone, so her interactions with her sisters (and hence their names occurrences) decrease."
   ]
  },
  {
   "cell_type": "markdown",
   "id": "5f2a9d3c-36bb-4c60-8a0e-b9114d0e3b7a",
   "metadata": {},
   "source": [
    "Laurie is a young man who marries one of the girls in the end. See if you can use the plots to guess which one."
   ]
  },
  {
   "cell_type": "markdown",
   "id": "8d9d832d-d909-4fb9-9109-8a52a91221d2",
   "metadata": {},
   "source": [
    "### Some More Data"
   ]
  },
  {
   "cell_type": "markdown",
   "id": "2356fe09-bde2-4e58-b683-0a0fb063d538",
   "metadata": {},
   "source": [
    "Let's see how long the chapters are in both books, in terms of number of *printed* characters and number of sentences.  To count sentences, we simply count the number of periods."
   ]
  },
  {
   "cell_type": "code",
   "execution_count": null,
   "id": "ef613441-ed7a-42db-a0de-875ecd20bb67",
   "metadata": {
    "tags": []
   },
   "outputs": [],
   "source": [
    "huck_data_dict = {\n",
    "    \"Huck Finn Chapter Length\": [len(chapter) for chapter in huck_finn_chapters],\n",
    "    \"Number of Periods\": np.char.count(huck_finn_chapters, \".\"),\n",
    "}\n",
    "\n",
    "n_huck_chapters = np.arange(1, len(huck_finn_chapters) + 1)\n",
    "\n",
    "chars_periods_huck_finn = pd.DataFrame(huck_data_dict, index=n_huck_chapters)"
   ]
  },
  {
   "cell_type": "markdown",
   "id": "1000458d-c0be-4d94-b2e6-e3deedbf7429",
   "metadata": {},
   "source": [
    "Let's see the counts for the first 10 chapters:"
   ]
  },
  {
   "cell_type": "code",
   "execution_count": null,
   "id": "fb91f6b9-11c3-437a-a670-75c39f1f28c2",
   "metadata": {
    "tags": []
   },
   "outputs": [],
   "source": [
    "chars_periods_huck_finn.head(10)"
   ]
  },
  {
   "cell_type": "markdown",
   "id": "4d4a6fce-b5e5-471d-829e-903baa5a8305",
   "metadata": {},
   "source": [
    "Repeating it for *Little Women*:"
   ]
  },
  {
   "cell_type": "code",
   "execution_count": null,
   "id": "a32330fe-5d4c-46ed-9e16-6c0df93cb8fc",
   "metadata": {
    "tags": []
   },
   "outputs": [],
   "source": [
    "lw_data_dict = {\n",
    "    \"Little Women Chapter Length\": [len(chapter) for chapter in little_women_chapters],\n",
    "    \"Number of Periods\": np.char.count(little_women_chapters, \".\"),\n",
    "}\n",
    "\n",
    "n_lw_chapters = np.arange(1, len(little_women_chapters) + 1)\n",
    "\n",
    "chars_periods_little_women = pd.DataFrame(lw_data_dict, index=n_lw_chapters)"
   ]
  },
  {
   "cell_type": "code",
   "execution_count": null,
   "id": "f0e2391b-2c74-4196-a8d0-56c4e3ff271c",
   "metadata": {
    "tags": []
   },
   "outputs": [],
   "source": [
    "chars_periods_little_women.head(10)"
   ]
  },
  {
   "cell_type": "markdown",
   "id": "8bc1d4bb-283a-45f7-8da1-5c1ce50d78e5",
   "metadata": {},
   "source": [
    "We can also get some statistics:"
   ]
  },
  {
   "cell_type": "code",
   "execution_count": null,
   "id": "4ab0ea9a-fd53-44b6-9970-85c511e5197c",
   "metadata": {
    "tags": []
   },
   "outputs": [],
   "source": [
    "chars_periods_huck_finn.describe().style.format(precision=2, thousands=\",\")"
   ]
  },
  {
   "cell_type": "code",
   "execution_count": null,
   "id": "b168abc9-13b4-435c-a870-b9cd2b7863bf",
   "metadata": {
    "tags": []
   },
   "outputs": [],
   "source": [
    "chars_periods_little_women.describe().style.format(precision=2, thousands=\",\")"
   ]
  },
  {
   "cell_type": "markdown",
   "id": "2a592b2c-4a38-498b-9938-1db8e05c1cc2",
   "metadata": {},
   "source": [
    "Clearly, *Little Women* has longer chapters!"
   ]
  },
  {
   "cell_type": "markdown",
   "id": "4cbdd5e1-ee4e-4b2c-b47a-aa2d72e64379",
   "metadata": {},
   "source": [
    "Let's visualize the relation of the number of characters and number of periods in both books simultaneously:"
   ]
  },
  {
   "cell_type": "code",
   "execution_count": null,
   "id": "289244d1-dd0e-46fe-a1e3-e4ffb1dd4018",
   "metadata": {
    "tags": []
   },
   "outputs": [],
   "source": [
    "axis = chars_periods_huck_finn.plot(1, 0, kind=\"scatter\", color=\"darkblue\", label=\"Huck Finn\")\n",
    "chars_periods_little_women.plot(1, 0, kind=\"scatter\", color=\"gold\", label=\"Little Women\", ax=axis)\n",
    "\n",
    "plt.xlabel(\"Number of periods in chapter\")\n",
    "plt.ylabel(\"Number of characters in chapter\")\n",
    "\n",
    "plt.show()"
   ]
  },
  {
   "cell_type": "markdown",
   "id": "6e738196-2d2b-4670-a458-14ac298486af",
   "metadata": {},
   "source": [
    "We can see:\n",
    "- *Little Women* has longer chapters (as already noticed).\n",
    "- Points for each book seem to be clustered around a line.  (Maybe a single line for both!)\n",
    "- Looking where they lengths are similar, the number of periods are also similar."
   ]
  },
  {
   "cell_type": "markdown",
   "id": "a5bb9f59-3ecb-448c-95fc-b59278b00a10",
   "metadata": {},
   "source": [
    "Let's find the actual average length of the sentences for both:"
   ]
  },
  {
   "cell_type": "code",
   "execution_count": null,
   "id": "8d938150-c87e-454c-8bea-4ddf7f749702",
   "metadata": {
    "tags": []
   },
   "outputs": [],
   "source": [
    "chars_periods_huck_finn[\"Huck Finn Chapter Length\"].sum() / chars_periods_huck_finn[\n",
    "    \"Number of Periods\"\n",
    "].sum()"
   ]
  },
  {
   "cell_type": "code",
   "execution_count": null,
   "id": "487d44dd-0c32-4b12-83bd-b4dee63231a2",
   "metadata": {
    "tags": []
   },
   "outputs": [],
   "source": [
    "chars_periods_little_women[\n",
    "    \"Little Women Chapter Length\"\n",
    "].sum() / chars_periods_little_women[\"Number of Periods\"].sum()"
   ]
  },
  {
   "cell_type": "markdown",
   "id": "950800e0-d34c-4c03-80eb-a46594b2e4ec",
   "metadata": {},
   "source": [
    "So, *The Adventures of Huckleberry Finn* has, in average, longer sentences, but only by two characters (out of about 112)!\n",
    "\n",
    "Let's see also print the average to see how the points appear related to this rough average."
   ]
  },
  {
   "cell_type": "code",
   "execution_count": null,
   "id": "34f5c07f-2123-43dc-b6bd-0aeaa7ff9cfb",
   "metadata": {
    "tags": []
   },
   "outputs": [],
   "source": [
    "aver = 112\n",
    "minx = min(\n",
    "    chars_periods_huck_finn[\"Number of Periods\"].min(),\n",
    "    chars_periods_little_women[\"Number of Periods\"].min(),\n",
    ")\n",
    "maxx = max(\n",
    "    chars_periods_huck_finn[\"Number of Periods\"].max(),\n",
    "    chars_periods_little_women[\"Number of Periods\"].max(),\n",
    ")\n",
    "\n",
    "# create figure and axes\n",
    "fig, ax = plt.subplots()\n",
    "\n",
    "# average line\n",
    "plt.plot(\n",
    "    [minx, maxx],\n",
    "    [aver * minx, aver * maxx],\n",
    "    color=\"red\",\n",
    "    linestyle=\"dashed\",\n",
    "    linewidth=2,\n",
    "    label=\"Average\",\n",
    ")\n",
    "\n",
    "chars_periods_huck_finn.plot(1, 0, kind=\"scatter\", color=\"darkblue\", label=\"Huck Finn\", ax=ax)\n",
    "chars_periods_little_women.plot(1, 0, kind=\"scatter\", color=\"gold\", label=\"Little Women\", ax=ax)\n",
    "\n",
    "\n",
    "plt.xlabel(\"Number of periods in chapter\")\n",
    "plt.ylabel(\"Number of characters in chapter\")\n",
    "\n",
    "plt.show()"
   ]
  }
 ],
 "metadata": {
  "kernelspec": {
   "display_name": "Python 3 (ipykernel)",
   "language": "python",
   "name": "python3"
  },
  "language_info": {
   "codemirror_mode": {
    "name": "ipython",
    "version": 3
   },
   "file_extension": ".py",
   "mimetype": "text/x-python",
   "name": "python",
   "nbconvert_exporter": "python",
   "pygments_lexer": "ipython3",
   "version": "3.9.7"
  }
 },
 "nbformat": 4,
 "nbformat_minor": 5
}
